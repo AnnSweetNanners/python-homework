{
 "cells": [
  {
   "cell_type": "code",
   "execution_count": 28,
   "metadata": {},
   "outputs": [
    {
     "name": "stdout",
     "output_type": "stream",
     "text": [
      "<class '_io.TextIOWrapper'>\n",
      "38382578\n"
     ]
    }
   ],
   "source": [
    "#set variables to 0\n",
    "total_months=0\n",
    "date=0\n",
    "pl=0\n",
    "net_profits_losses=0\n",
    "pl_chg=0\n",
    "pl_prior=0\n",
    "average_change=0\n",
    "line_num=0\n",
    "count=0\n",
    "\n",
    "#Initialize Lists/Dicts\n",
    "pl_total=[]\n",
    "profits=[]\n",
    "losses=[]\n",
    "change=[]\n",
    "\n",
    "#Import and Read pybank_budget.csv\n",
    "import os\n",
    "import csv\n",
    "\n",
    "csv_file=\"pybank_budget.csv\"\n",
    "\n",
    "with open(csv_file, \"r\", newline=\"\")as csvfile:\n",
    "    csvreader=csv.reader(csvfile, delimiter =',')\n",
    "    print(type(csvfile))\n",
    "\n",
    "    ''' Make sure the data file starts at the line after header.'''\n",
    "    header=next(csvreader)\n",
    "\n",
    "    '''Add in variables that need to be calculated before the loop. *Note* Tutoring started here. '''\n",
    "    pl_prior_row=next(csvreader)\n",
    "    pl_prior=int(pl_prior_row[1])\n",
    "    count=1\n",
    "    pl_total.append(pl_prior)\n",
    "\n",
    "#Iterate through list, set counter, variable for date, variable for p/l\n",
    "    '''Iterate through list. Need to  run through the CSV data set and  set a counter to count the total number of months in the data set. Establish a profit and loss variable.'''\n",
    "\n",
    "    for row in csvreader: \n",
    "        date= row[0]\n",
    "        pl= int(row[1])\n",
    "        count+=1\n",
    "        '''Add all p/ls to list for caluclation of net totals'''\n",
    "        pl_total.append(pl)\n",
    "        \n",
    "        '''Establish change values and add to change list.'''\n",
    "        pl_chg=pl-pl_prior\n",
    "        change.append(pl_chg)\n",
    "        \n",
    "        '''Re-establish pl_prior so it continues to iterate through the list.'''\n",
    "        pl_prior=pl\n",
    "        \n",
    "        '''Establish profits/losses lists to count greatest profits/losses'''\n",
    "        if pl>0:\n",
    "            profits.append(pl)\n",
    "        elif pl<0:\n",
    "            losses.append(pl)\n",
    "        \n",
    "        '''How to establish/print date for greatest day change in profits/losses'''\n",
    "            \n",
    "            \n",
    "#Calculate the totals.\n",
    "net_profits_losses=sum(pl_total)\n",
    "total_months=(count)\n",
    "average_change= round((sum(change))/count,2)\n",
    "#Calculate Averages\n",
    "\n",
    "#Print All Data\n",
    "\n",
    "# Testing Print data - keeps record of what I've tested\n",
    "#     for row in csvreader:\n",
    "#         print(row)\n",
    "# print(f\"Header: {header}\")\n",
    "# print(count)\n",
    "# print(net_profits_losses)\n",
    "# print(change)\n",
    "# print(profits)\n",
    "\n",
    "# print(\"----------------------\")\n",
    "\n",
    "# print(losses)\n"
   ]
  },
  {
   "cell_type": "code",
   "execution_count": null,
   "metadata": {},
   "outputs": [],
   "source": []
  },
  {
   "cell_type": "code",
   "execution_count": null,
   "metadata": {},
   "outputs": [],
   "source": []
  },
  {
   "cell_type": "code",
   "execution_count": null,
   "metadata": {},
   "outputs": [],
   "source": []
  },
  {
   "cell_type": "code",
   "execution_count": null,
   "metadata": {},
   "outputs": [],
   "source": []
  },
  {
   "cell_type": "code",
   "execution_count": null,
   "metadata": {},
   "outputs": [],
   "source": []
  }
 ],
 "metadata": {
  "kernelspec": {
   "display_name": "Python 3",
   "language": "python",
   "name": "python3"
  },
  "language_info": {
   "codemirror_mode": {
    "name": "ipython",
    "version": 3
   },
   "file_extension": ".py",
   "mimetype": "text/x-python",
   "name": "python",
   "nbconvert_exporter": "python",
   "pygments_lexer": "ipython3",
   "version": "3.7.6"
  }
 },
 "nbformat": 4,
 "nbformat_minor": 4
}

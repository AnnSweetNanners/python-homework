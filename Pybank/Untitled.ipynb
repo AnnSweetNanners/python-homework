{
 "cells": [
  {
   "cell_type": "code",
   "execution_count": 2,
   "metadata": {},
   "outputs": [
    {
     "ename": "SyntaxError",
     "evalue": "invalid syntax (<ipython-input-2-27d047144e66>, line 3)",
     "output_type": "error",
     "traceback": [
      "\u001b[1;36m  File \u001b[1;32m\"<ipython-input-2-27d047144e66>\"\u001b[1;36m, line \u001b[1;32m3\u001b[0m\n\u001b[1;33m    reader=csPermissionError: [Errno 13] Permission denied: 'pybank_budget.csv'v.dictreader(csvfile)\u001b[0m\n\u001b[1;37m                            ^\u001b[0m\n\u001b[1;31mSyntaxError\u001b[0m\u001b[1;31m:\u001b[0m invalid syntax\n"
     ]
    }
   ],
   "source": [
    "\n",
    "\n",
    "\n",
    "import csv\n",
    "\n",
    "with open ('pybank_budget.csv', newline='') as csv.file:\n",
    "    reader=csPermissionError: [Errno 13] Permission denied: 'pybank_budget.csv'v.dictreader(csvfile)\n",
    "    for line in rdr:\n",
    "    print(type(line))\n",
    "    print(line)\n",
    "        "
   ]
  },
  {
   "cell_type": "code",
   "execution_count": null,
   "metadata": {},
   "outputs": [],
   "source": []
  }
 ],
 "metadata": {
  "kernelspec": {
   "display_name": "Python 3",
   "language": "python",
   "name": "python3"
  },
  "language_info": {
   "codemirror_mode": {
    "name": "ipython",
    "version": 3
   },
   "file_extension": ".py",
   "mimetype": "text/x-python",
   "name": "python",
   "nbconvert_exporter": "python",
   "pygments_lexer": "ipython3",
   "version": "3.7.6"
  }
 },
 "nbformat": 4,
 "nbformat_minor": 4
}

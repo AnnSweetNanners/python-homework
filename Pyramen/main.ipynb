{
 "cells": [
  {
   "cell_type": "code",
   "execution_count": 9,
   "metadata": {},
   "outputs": [
    {
     "name": "stdout",
     "output_type": "stream",
     "text": [
      "<class '_io.TextIOWrapper'>\n",
      "<class '_io.TextIOWrapper'>\n"
     ]
    },
    {
     "ename": "NameError",
     "evalue": "name 'cvsreader' is not defined",
     "output_type": "error",
     "traceback": [
      "\u001b[1;31m---------------------------------------------------------------------------\u001b[0m",
      "\u001b[1;31mNameError\u001b[0m                                 Traceback (most recent call last)",
      "\u001b[1;32m<ipython-input-9-a17d3772c704>\u001b[0m in \u001b[0;36m<module>\u001b[1;34m\u001b[0m\n\u001b[0;32m     33\u001b[0m     \u001b[0mheader\u001b[0m\u001b[1;33m=\u001b[0m\u001b[0mnext\u001b[0m\u001b[1;33m(\u001b[0m\u001b[0mcsvreader\u001b[0m\u001b[1;33m)\u001b[0m\u001b[1;33m\u001b[0m\u001b[1;33m\u001b[0m\u001b[0m\n\u001b[0;32m     34\u001b[0m \u001b[1;33m\u001b[0m\u001b[0m\n\u001b[1;32m---> 35\u001b[1;33m     \u001b[1;32mfor\u001b[0m \u001b[0mrows\u001b[0m \u001b[1;32min\u001b[0m \u001b[0mcvsreader\u001b[0m\u001b[1;33m:\u001b[0m\u001b[1;33m\u001b[0m\u001b[1;33m\u001b[0m\u001b[0m\n\u001b[0m\u001b[0;32m     36\u001b[0m         \u001b[0msales_list\u001b[0m\u001b[1;33m.\u001b[0m\u001b[0mappend\u001b[0m\u001b[1;33m(\u001b[0m\u001b[0mrows\u001b[0m\u001b[1;33m)\u001b[0m\u001b[1;33m\u001b[0m\u001b[1;33m\u001b[0m\u001b[0m\n\u001b[0;32m     37\u001b[0m \u001b[1;33m\u001b[0m\u001b[0m\n",
      "\u001b[1;31mNameError\u001b[0m: name 'cvsreader' is not defined"
     ]
    }
   ],
   "source": [
    "#Read in menu_data.csv and set its contents to a separate list object. (This way, you can cross-reference your menu data with your sales data as you read in your sales data in the coming steps.)\n",
    "import os\n",
    "import csv\n",
    "import path as pathlib\n",
    "\n",
    "csv_file='menu_data.csv'\n",
    "\n",
    "#Initialize an empty menu list object to hold the contents of menu_data.csv.\n",
    "menu_list=[]\n",
    "sales_list=[]\n",
    "\n",
    "#Use a with statement and open the menu_data.csv by using its file path.\n",
    "with open (csv_file, \"r\", newline=\"\") as csvfile:\n",
    "\n",
    "    #Use the reader function from the csv library to begin reading menu_data.csv.\n",
    "    csvreader=csv.reader(csvfile, delimiter =',')\n",
    "    print(type(csvfile))\n",
    "\n",
    "    #Use the next function to skip the header (first row of the CSV).\n",
    "    header=next(csvreader)\n",
    "\n",
    "    #Loop over the rest of the rows and append every row to the menu list object (the outcome will be a list of lists).\n",
    "    for rows in csvreader:\n",
    "        menu_list.append(rows)\n",
    "        \n",
    "#Set up the same process to read in sales_data.csv. However, instead append every row of the sales data to a new sales list object\n",
    "csv_file='sales_data.csv'\n",
    "\n",
    "with open (csv_file, \"r\", newline=\"\") as  csvfile:\n",
    "    csvreader=csv.reader(csvfile, delimiter =',')\n",
    "    print(type(csvfile))\n",
    "    \n",
    "    header=next(csvreader)\n",
    "    \n",
    "    for rows in cvsreader:\n",
    "        sales_list.append(rows)\n",
    "        \n",
    "print(menu_list)\n",
    "print(sales_list)"
   ]
  },
  {
   "cell_type": "code",
   "execution_count": null,
   "metadata": {},
   "outputs": [],
   "source": []
  }
 ],
 "metadata": {
  "kernelspec": {
   "display_name": "Python 3",
   "language": "python",
   "name": "python3"
  },
  "language_info": {
   "codemirror_mode": {
    "name": "ipython",
    "version": 3
   },
   "file_extension": ".py",
   "mimetype": "text/x-python",
   "name": "python",
   "nbconvert_exporter": "python",
   "pygments_lexer": "ipython3",
   "version": "3.7.6"
  }
 },
 "nbformat": 4,
 "nbformat_minor": 4
}
